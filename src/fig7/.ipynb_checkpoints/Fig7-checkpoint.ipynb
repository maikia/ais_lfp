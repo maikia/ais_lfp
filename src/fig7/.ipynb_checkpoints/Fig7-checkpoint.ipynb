{
 "cells": [
  {
   "cell_type": "markdown",
   "metadata": {
    "collapsed": true
   },
   "source": [
    "# This code generates \n",
    "## Fig7. Extracellular potential calculated from the soma-axon model with the AIS at three different distances"
   ]
  },
  {
   "cell_type": "code",
   "execution_count": 1,
   "metadata": {
    "collapsed": true
   },
   "outputs": [],
   "source": [
    "# import necessary libraries\n",
    "import numpy as np\n",
    "import os.path\n",
    "import sys\n",
    "import matplotlib.pylab as plt\n",
    "\n",
    "ext = '.pdf'\n",
    "%matplotlib inline"
   ]
  },
  {
   "cell_type": "code",
   "execution_count": 2,
   "metadata": {
    "collapsed": true
   },
   "outputs": [],
   "source": [
    "# simulate the cell (or use the data from previous simulation)\n",
    "simulate_new = False # set False if you want to use previously saved simulated previously data\n",
    "#run_original = False # if False, will run reduced_Nav"
   ]
  },
  {
   "cell_type": "code",
   "execution_count": 3,
   "metadata": {},
   "outputs": [
    {
     "name": "stdout",
     "output_type": "stream",
     "text": [
      "/home/maria/maja/articles/lfp_phd/final code/data/HallermannEtAl2012\n"
     ]
    }
   ],
   "source": [
    "%cd ../../data/HallermannEtAl2012"
   ]
  },
  {
   "cell_type": "code",
   "execution_count": 4,
   "metadata": {
    "collapsed": true
   },
   "outputs": [],
   "source": [
    "from calcs import simulate as sim"
   ]
  },
  {
   "cell_type": "code",
   "execution_count": 5,
   "metadata": {
    "collapsed": true
   },
   "outputs": [],
   "source": [
    "# get neuron params\n",
    "data_phys = sim.get_data('', simulate_new=simulate_new, run_original=True)\n",
    "# exact parameters of the simulation are set in the simulate.py file"
   ]
  },
  {
   "cell_type": "code",
   "execution_count": 6,
   "metadata": {
    "collapsed": true
   },
   "outputs": [],
   "source": [
    "data_red = sim.get_data('', simulate_new=simulate_new, run_original=False)"
   ]
  },
  {
   "cell_type": "code",
   "execution_count": 7,
   "metadata": {
    "collapsed": true
   },
   "outputs": [],
   "source": [
    "# calculate local field potential\n",
    "calc_lfp_new = True\n",
    "field_size_type = 'ais_zoom' # 'ais_det' for zoomed in figs\n",
    "                    # 'lfp_zoom_out', for full morpho; both simulations are long"
   ]
  },
  {
   "cell_type": "code",
   "execution_count": null,
   "metadata": {},
   "outputs": [],
   "source": [
    "from calcs import calc_lfp "
   ]
  },
  {
   "cell_type": "code",
   "execution_count": null,
   "metadata": {},
   "outputs": [],
   "source": [
    "# parameters for the field calculations\n",
    "lfp_data_phys = calc_lfp.get_lfp_data(data_phys, calc_lfp_new=calc_lfp_new, field_size_type=field_size_type, \n",
    "                                run_original=True)"
   ]
  },
  {
   "cell_type": "code",
   "execution_count": null,
   "metadata": {},
   "outputs": [],
   "source": [
    "lfp_data_red = calc_lfp.get_lfp_data(data_red, calc_lfp_new=calc_lfp_new, field_size_type=field_size_type, \n",
    "                                run_original=run_original)"
   ]
  },
  {
   "cell_type": "code",
   "execution_count": null,
   "metadata": {
    "collapsed": true
   },
   "outputs": [],
   "source": [
    "field_size_type = 'ais_zoom'\n",
    "lfp_data_phys = calc_lfp.get_lfp_data(data_phys, calc_lfp_new=calc_lfp_new, field_size_type=field_size_type, \n",
    "                                run_original=True)\n",
    "lfp_data_red = calc_lfp.get_lfp_data(data_red, calc_lfp_new=calc_lfp_new, field_size_type=field_size_type, \n",
    "                                run_original=run_original)"
   ]
  },
  {
   "cell_type": "code",
   "execution_count": null,
   "metadata": {},
   "outputs": [],
   "source": [
    "def plot_fig_7A(data, lfp_data):\n",
    "    axon_color = 'teal'\n",
    "    soma_color = 'darkorange'\n",
    "\n",
    "    #v_ext, v_soma, v_ais, data = None, None, None, None\n",
    "    v_ext = lfp_data['v_ext']\n",
    "    xx = lfp_data['xx']\n",
    "    yy = lfp_data['yy']\n",
    "    \n",
    "    x_range_plt = [-200, 200]#[-10,10]\n",
    "    y_range_plt = [-200, 200]#[-100,0]\n",
    "    vmin, vmax = -150,150\n",
    "\n",
    "    plt.figure(figsize=(8, 10))\n",
    "    pt1 = -0.15\n",
    "    pt3 = 0.4\n",
    "    streamplt_density = 0.4\n",
    "    scalebar = 10\n",
    "\n",
    "    #if len(postfixes) <= 2:\n",
    "    gs = gridspec.GridSpec(4, 3, width_ratios=(3, 3 ,0.3))\n",
    "    #for idx in range(len(postfixes)):\n",
    "    #data = np.load('data/data_hallerman'+postfixes[idx]+'.npz')\n",
    "    dt = data['dt']\n",
    "    v_soma = data['v_soma']\n",
    "    v_ais = data['vecs_ais'][-1]\n",
    "    time = np.arange(len(data['v_soma']))*dt\n",
    "    ### draw spikes\n",
    "    \n",
    "    ax = plt.subplot(gs[0,idx])\n",
    "    plt.plot(time, v_soma, color=soma_color, label = 'soma')\n",
    "    plt.plot(time, v_ais, color=axon_color, label = 'ais')\n",
    "    if idx == 1:\n",
    "        plt.legend(frameon = False)\n",
    "\n",
    "    spike_peak = find_spike(v_ais, dt)\n",
    "    plt.vlines(spike_peak, -100, 40, linestyles='--')\n",
    "    line2 = int(spike_peak/dt)\n",
    "    plt.vlines(spike_peak+pt1, -100, 40, linestyles='--')\n",
    "    line1 = int((spike_peak+pt1)/dt)\n",
    "    plt.vlines(spike_peak+pt3, -100, 40, linestyles='--')\n",
    "    line3 = int((spike_peak+pt3)/dt)\n",
    "    plt.title(postfixes[idx])\n",
    "        \n",
    "    clean_frame(ax)\n",
    "    plt.xlim([spike_peak-1.5, spike_peak+1.5])\n",
    "    plt.ylim([-100,40])\n",
    "        \n",
    "    ### get extracellular data\n",
    "    v_ext, v_soma, v_ais, data = None, None, None, None\n",
    "    v_ext1 = v_ext[line1, :,:]/10e2 # change to microvolts\n",
    "    v_ext2 = v_ext[line2, :,:]/10e2\n",
    "    v_ext3 = v_ext[line3, :,:]/10e2\n",
    "\n",
    "    ### draw the v_ext at the first timept\n",
    "    ax1 = plt.subplot(gs[1,idx])\n",
    "    im = imshow_data(ax1,v_ext1,x_range=x_range,y_range=y_range,\n",
    "                vmin=vmin,vmax=vmax,cmap=cm.bwr,scalebar=scalebar,\n",
    "                         xp_scbar=40, yp_scbar=20,autolim = False)\n",
    "    U = -np.diff(v_ext1, axis=0)[:, :-1]\n",
    "    V = -np.diff(v_ext1, axis=1)[:-1, :]\n",
    "        \n",
    "    plt.axis('scaled')\n",
    "    plt.plot(ais_coord[0], ais_coord[1], 'ob', ms = 8, mfc='none', mec = 'r')\n",
    "    plt.streamplot(xx[0, :-1], yy[:-1, 0], V, U, density = streamplt_density, color = 'k', linewidth=0.5)\n",
    "        \n",
    "    ax2 = plt.subplot(gs[2,idx])\n",
    "    #clean_frame(ax)\n",
    "    im = imshow_data(ax2,v_ext2,x_range=x_range,y_range=y_range,\n",
    "                vmin=vmin,vmax=vmax,cmap=cm.bwr,scalebar=scalebar,\n",
    "                         xp_scbar=40, yp_scbar=20,autolim = False)\n",
    "    U = -np.diff(v_ext2, axis=0)[:, :-1]\n",
    "    V = -np.diff(v_ext2, axis=1)[:-1, :]\n",
    "    plt.axis('scaled')\n",
    "    plt.plot(ais_coord[0], ais_coord[1], 'ob', ms = 8, mfc='none', mec = 'r')\n",
    "    plt.streamplot(xx[0, :-1], yy[:-1, 0], V, U, density = streamplt_density, color = 'k', linewidth=0.5)\n",
    "       \n",
    "    #ax3 = plt.subplot(4,2,idx+7)\n",
    "        \n",
    "    ax3 = plt.subplot(gs[3,idx])\n",
    "    U = -np.diff(v_ext3, axis=0)[:, :-1]\n",
    "    V = -np.diff(v_ext3, axis=1)[:-1, :]\n",
    "    plt.streamplot(xx[0, :-1], yy[:-1, 0], V, U, density = streamplt_density, color = 'k', linewidth=0.5)\n",
    " \n",
    "    im = imshow_data(ax3,v_ext3,x_range=x_range,y_range=y_range,\n",
    "            vmin=vmin,vmax=vmax,cmap=cm.bwr,scalebar=scalebar,\n",
    "                     xp_scbar=40, yp_scbar=20,autolim = False)   \n",
    "        \n",
    "    plt.axis('scaled')\n",
    "    plt.plot(ais_coord[0], ais_coord[1], 'ob', ms = 8, mfc='none', mec = 'r')\n",
    "    plt.plot(-3.18, -182, 'ob', ms = 8, mfc='none', mec = 'g') # 1st NoR\n",
    "        # 1st Nor coords -3.18, -182           \n",
    "        #v_ext_um = v_ext/10e2 # change to microvolts\n",
    "        #timeline = np.arange(0, len(v_ext_um)*dt, dt)\n",
    "\n",
    "    ax_col = plt.subplot(gs[1,2])\n",
    "    str_ticks = ['<'+str(vmin), '', '>'+str(vmax)]\n",
    "    ticks = [vmin, 0, vmax]\n",
    "    cbar = plt.colorbar(im, cax=ax_col, drawedges = False, ticks=ticks) #, cax=ax_col, drawedges = False) #, ticks=ticks)\n",
    "    \n",
    "    cbar.ax.set_ylabel(u'voltage (µV)')\n",
    "    cbar.ax.set_yticklabels(str_ticks)\n",
    "    plt.tight_layout()\n",
    "    plt.savefig('figs/dipoles'+data_type+ext)"
   ]
  },
  {
   "cell_type": "code",
   "execution_count": null,
   "metadata": {
    "collapsed": true
   },
   "outputs": [],
   "source": [
    "def plot_fig_7BCD():\n",
    "    pass"
   ]
  },
  {
   "cell_type": "code",
   "execution_count": null,
   "metadata": {},
   "outputs": [],
   "source": [
    "from matplotlib import gridspec\n",
    "plot_fig_7A(data_phys, lfp_data_phys)\n"
   ]
  },
  {
   "cell_type": "code",
   "execution_count": null,
   "metadata": {
    "collapsed": true
   },
   "outputs": [],
   "source": []
  }
 ],
 "metadata": {
  "anaconda-cloud": {},
  "kernelspec": {
   "display_name": "Python 2",
   "language": "python",
   "name": "python2"
  },
  "language_info": {
   "codemirror_mode": {
    "name": "ipython",
    "version": 2
   },
   "file_extension": ".py",
   "mimetype": "text/x-python",
   "name": "python",
   "nbconvert_exporter": "python",
   "pygments_lexer": "ipython2",
   "version": "2.7.13"
  }
 },
 "nbformat": 4,
 "nbformat_minor": 1
}
