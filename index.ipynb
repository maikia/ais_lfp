{
 "cells": [
  {
   "cell_type": "markdown",
   "metadata": {},
   "source": [
    "# List of figures\n",
    "click on the Figure name to access the notebook with the code of that figure\n",
    "\n",
    "[Figure 3](src/fig3/Fig3.ipynb) - Action potentials in two different locations: soma and AIS\n",
    "\n",
    "[Figure 4](src/fig4/Fig4b.ipynb) - Extracellular potential measured at different locations\n",
    "\n",
    "[Figure 5](src/fig5/Fig5.ipynb) - Maximum peak-to-peak amplitude of the EAP calculated in the different places of the field\n",
    "\n",
    "[Figure 6](src/fig6/Fig6.ipynb) - Comparison of peak-to-peak amplitude in physiological and reduced Nav models\n",
    "\n",
    "[Figure 7](src/fig7/Fig7.ipynb) - Extracellular potential calculated from the soma-axon model with the AIS at three different distances\n",
   ]
  }
 ],
 "metadata": {
  "kernelspec": {
   "display_name": "Python 2",
   "language": "python",
   "name": "python2"
  },
  "language_info": {
   "codemirror_mode": {
    "name": "ipython",
    "version": 2
   },
   "file_extension": ".py",
   "mimetype": "text/x-python",
   "name": "python",
   "nbconvert_exporter": "python",
   "pygments_lexer": "ipython2",
   "version": "2.7.11"
  }
 },
 "nbformat": 4,
 "nbformat_minor": 0
}

