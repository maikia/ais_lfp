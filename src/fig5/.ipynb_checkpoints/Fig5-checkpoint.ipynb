{
 "cells": [
  {
   "cell_type": "markdown",
   "metadata": {
    "collapsed": true
   },
   "source": [
    "# This code generates \n",
    "## Fig5. Maximum peak-to-peak amplitude of the EAP calculated in the different places of the field"
   ]
  },
  {
   "cell_type": "code",
   "execution_count": 1,
   "metadata": {
    "collapsed": true
   },
   "outputs": [],
   "source": [
    "# import necessary libraries\n",
    "import numpy as np\n",
    "import os.path\n",
    "import sys\n",
    "import matplotlib.pylab as plt\n",
    "\n",
    "ext = '.pdf'\n",
    "%matplotlib inline"
   ]
  },
  {
   "cell_type": "code",
   "execution_count": 2,
   "metadata": {
    "collapsed": true
   },
   "outputs": [],
   "source": [
    "# simulate the cell (or use the data from previous simulation)\n",
    "simulate_new = False # set False if you want to use previously saved simulated previously data\n",
    "run_original = False # if False, will run reduced_Nav"
   ]
  },
  {
   "cell_type": "code",
   "execution_count": 3,
   "metadata": {},
   "outputs": [
    {
     "name": "stdout",
     "output_type": "stream",
     "text": [
      "/home/maria/maja/articles/lfp_phd/final code/data/HallermannEtAl2012\n"
     ]
    }
   ],
   "source": [
    "%cd ../../data/HallermannEtAl2012"
   ]
  },
  {
   "cell_type": "code",
   "execution_count": 4,
   "metadata": {
    "collapsed": true
   },
   "outputs": [],
   "source": [
    "import simulate as sim"
   ]
  },
  {
   "cell_type": "code",
   "execution_count": 5,
   "metadata": {
    "collapsed": true
   },
   "outputs": [],
   "source": [
    "# get neuron params \n",
    "data = sim.get_data('', simulate_new=simulate_new, run_original=run_original)\n",
    "# exact parameters of the simulation are set in the simulate.py file"
   ]
  },
  {
   "cell_type": "code",
   "execution_count": 9,
   "metadata": {
    "collapsed": true
   },
   "outputs": [],
   "source": [
    "# calculate local field potential\n",
    "calc_lfp_new = False\n",
    "field_size_type = 'detail' # this simulation takes a while because it calculates more points than the others"
   ]
  },
  {
   "cell_type": "code",
   "execution_count": 10,
   "metadata": {
    "collapsed": true
   },
   "outputs": [],
   "source": [
    "from calcs import calc_lfp "
   ]
  },
  {
   "cell_type": "code",
   "execution_count": 12,
   "metadata": {},
   "outputs": [],
   "source": [
    "# parameters for the field calculations\n",
    "lfp_data = calc_lfp.get_lfp_data(data, calc_lfp_new=calc_lfp_new, field_size_type=field_size_type)"
   ]
  },
  {
   "cell_type": "code",
   "execution_count": 14,
   "metadata": {
    "collapsed": true
   },
   "outputs": [],
   "source": [
    "# remove after the calculations\n",
    "data2 = sim.get_data('', simulate_new=False, run_original=True)\n",
    "lfp_data = calc_lfp.get_lfp_data(data2, calc_lfp_new=calc_lfp_new, field_size_type=field_size_type)"
   ]
  },
  {
   "cell_type": "code",
   "execution_count": 30,
   "metadata": {
    "collapsed": true
   },
   "outputs": [],
   "source": [
    "def calc_max_peak2peak(data):\n",
    "    data_max = np.nanmax(data, axis=0)\n",
    "    data_min = np.nanmin(data, axis=0)\n",
    "    data_ampl = data_max - data_min\n",
    "    return data_ampl"
   ]
  },
  {
   "cell_type": "code",
   "execution_count": 33,
   "metadata": {
    "collapsed": true
   },
   "outputs": [],
   "source": [
    "# get params\n",
    "dt = data['dt']\n",
    "v_ext = lfp_data['v_ext']\n",
    "x_range = lfp_data['x_range']\n",
    "y_range = lfp_data['y_range']\n",
    "xx = lfp_data['xx']\n",
    "yy = lfp_data['yy']\n",
    "\n",
    "amplitude = calc_max_peak2peak(v_ext)\n",
    "max_ampl = np.max(amplitude)\n",
    "\n",
    "# normalize\n",
    "ampl_norm_phys = amplitude/max_ampl"
   ]
  },
  {
   "cell_type": "code",
   "execution_count": 43,
   "metadata": {
    "collapsed": true
   },
   "outputs": [],
   "source": [
    "def calc_fraction(pt=0,no_segs = 5,line_range=[-200,300]):\n",
    "    x_min, x_max = line_range\n",
    "    \n",
    "    if pt == x_min:\n",
    "        return 0\n",
    "    elif pt == x_max:\n",
    "        return no_segs-1\n",
    "    delta_x = np.diff(line_range)*1.0/no_segs\n",
    "    n_x = int((pt-x_min)/delta_x)\n",
    "    assert n_x < no_segs\n",
    "    return n_x "
   ]
  },
  {
   "cell_type": "code",
   "execution_count": 52,
   "metadata": {},
   "outputs": [
    {
     "data": {
      "text/plain": [
       "200"
      ]
     },
     "execution_count": 52,
     "metadata": {},
     "output_type": "execute_result"
    }
   ],
   "source": [
    "np.size(ampl_norm_phys,0)"
   ]
  },
  {
   "cell_type": "code",
   "execution_count": 67,
   "metadata": {},
   "outputs": [
    {
     "data": {
      "image/png": "[encoded data removed]",
      "text/plain": [
       "<matplotlib.figure.Figure at 0x7f323bd0b290>"
      ]
     },
     "metadata": {},
     "output_type": "display_data"
    }
   ],
   "source": [
    "# calculates the distance voltage relationships\n",
    "ais_coord = [-8.10, -69.90]\n",
    "pts_y = np.array([0, ais_coord[1], 200, -200])\n",
    "pts_y_h = np.array([0, -60, 200, -200]) #ais_coord[1], 200, -200])\n",
    "pts_y_v = np.array([0])\n",
    "fig = plt.figure() #figsize=(4, 8))\n",
    "if run_original:\n",
    "    color = 'g'\n",
    "else:\n",
    "    color = 'r'\n",
    "\n",
    "subplots = [2,3] #[len(pts_y_h)+len(pts_y_v), 2]\n",
    "\n",
    "if (pts_y >= y_range[0]).all() and (pts_y <= y_range[1]).all():\n",
    "    # plot all the horizontal plots\n",
    "    idx = 1\n",
    "    lin_range_x = np.linspace(x_range[0], x_range[1],np.size(ampl_norm_phys,0))\n",
    "    lin_range_y = np.linspace(y_range[0], y_range[1],np.size(ampl_norm_phys,1))\n",
    "    \n",
    "    for pt_h in pts_y_h:\n",
    "        frac = calc_fraction(pt=pt_h,no_segs=np.size(ampl_norm_phys,1),\n",
    "                           line_range=x_range)\n",
    "        \n",
    "        # plot it\n",
    "        ax = plt.subplot(subplots[0],subplots[1], idx)\n",
    "        idx+=1\n",
    "        #line_1divr2 = 1./np.abs(lin_range_x ** 2) #**(2)) \n",
    "        \n",
    "\n",
    "        ampl_norm_0 = ampl_norm_phys[frac,:]/np.max(ampl_norm_phys[frac,:]) #max_frac\n",
    "        ax.plot(lin_range_x, ampl_norm_0, color) \n",
    "\n",
    "        plt.title(pt_h)\n",
    "        ax.set_yscale('log')\n",
    "        #ax.set_xscale('log')\n",
    "        ax.set_xlim([lin_range_x[0], lin_range_x[-1]])\n",
    "        ax.set_ylim([0,1])\n",
    "        ax.set_xlabel(u'space (µm)')\n",
    "        ax.set_ylabel(u'voltage (normalized)')\n",
    "        \n",
    "        for label in ax.xaxis.get_ticklabels()[1::2]:\n",
    "            # label only every second tick\n",
    "            label.set_visible(False)\n",
    "\n",
    "    for pt_v in pts_y_v:\n",
    "        frac = calc_fraction(pt=pt_v,no_segs=np.size(amplitude,1),\n",
    "                           line_range=y_range)\n",
    "        # normalize\n",
    "        ax = plt.subplot(subplots[0],subplots[1], idx)\n",
    "        idx+=1\n",
    "        #if plot_norm_ampl:\n",
    "        #    ampl_norm_0 = ampl_norm_phys[:,frac]/np.max(amplitudes[0][:,frac]) #max_frac\n",
    "        plt.plot(ampl_norm_phys[:,frac],lin_range_y, color)\n",
    "        #    plt.plot(ampl_norm_1,lin_range_y, colors[1])\n",
    "        #else:\n",
    "        #    plt.plot(ampl_norm_phys[:,frac],lin_range_y, colors[0])\n",
    "        ax.set_xscale('log')\n",
    "        ax.set_ylim([0,1])\n",
    "        plt.title(pt_v)\n",
    "        ax.set_ylim([lin_range_y[0], lin_range_y[-1]])\n",
    "        ax.set_ylabel(u'space (µm)')\n",
    "        ax.set_xlabel(u'voltage (normalized)')\n",
    "        #clean_frame(ax)\n",
    "    \n",
    "    plt.tight_layout()"
   ]
  }
 ],
 "metadata": {
  "anaconda-cloud": {},
  "kernelspec": {
   "display_name": "Python 2",
   "language": "python",
   "name": "python2"
  },
  "language_info": {
   "codemirror_mode": {
    "name": "ipython",
    "version": 2
   },
   "file_extension": ".py",
   "mimetype": "text/x-python",
   "name": "python",
   "nbconvert_exporter": "python",
   "pygments_lexer": "ipython2",
   "version": "2.7.13"
  }
 },
 "nbformat": 4,
 "nbformat_minor": 1
}
