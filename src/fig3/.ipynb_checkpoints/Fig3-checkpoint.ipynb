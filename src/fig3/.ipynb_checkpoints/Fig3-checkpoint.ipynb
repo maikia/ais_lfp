{
 "cells": [
  {
   "cell_type": "markdown",
   "metadata": {},
   "source": [
    "# This code generates \n",
    "## Fig3. Action potentials in two different locations: soma and AIS"
   ]
  },
  {
   "cell_type": "code",
   "execution_count": 1,
   "metadata": {
    "collapsed": true
   },
   "outputs": [],
   "source": [
    "# import necessary libraries\n",
    "import numpy as np\n",
    "import os.path\n",
    "import sys\n",
    "import matplotlib.pylab as plt\n",
    "\n",
    "ext = '.pdf'\n",
    "%matplotlib inline"
   ]
  },
  {
   "cell_type": "code",
   "execution_count": 2,
   "metadata": {
    "collapsed": true
   },
   "outputs": [],
   "source": [
    "# simulate the cell (or use the data from previous simulation)\n",
    "simulate_new = True # set False if you want to use previously saved simulated previously data\n",
    "run_original = True # if False, will run reduced_Nav"
   ]
  },
  {
   "cell_type": "code",
   "execution_count": 3,
   "metadata": {},
   "outputs": [
    {
     "name": "stdout",
     "output_type": "stream",
     "text": [
      "/home/maria/maja/articles/lfp_phd/final code/data/HallermannEtAl2012\n"
     ]
    }
   ],
   "source": [
    "%cd ../../data/HallermannEtAl2012"
   ]
  },
  {
   "cell_type": "code",
   "execution_count": 4,
   "metadata": {
    "collapsed": true
   },
   "outputs": [],
   "source": [
    "from calcs import simulate as sim"
   ]
  },
  {
   "cell_type": "code",
   "execution_count": 5,
   "metadata": {},
   "outputs": [],
   "source": [
    "data = sim.get_data('', simulate_new=simulate_new, run_original=run_original)\n",
    "# exact parameters of the simulation are set in the simulate.py file\n",
    "\n",
    "I = data['I']\n",
    "time = data['t']\n",
    "I_axial = data['I_axial']\n",
    "v_soma = data['v_soma']\n",
    "seg_coords = data['seg_coords']\n",
    "vecs_ais = data['vecs_ais']\n",
    "dt = data['dt']\n",
    "stim_delay = data['stim_delay']"
   ]
  },
  {
   "cell_type": "code",
   "execution_count": 6,
   "metadata": {
    "collapsed": true
   },
   "outputs": [],
   "source": [
    "# params\n",
    "ext = '.pdf'\n",
    "if run_original:\n",
    "    plot_lim = [43,46] #ms,  x_axis from the peak of the somatic spike\n",
    "else:\n",
    "    plot_lim = [48.5, 51.5]\n",
    "    \n",
    "axon_color = 'teal'\n",
    "soma_color = 'darkorange'\n",
    "mycmap = plt.cm.get_cmap('RdYlGn') # define colormap "
   ]
  },
  {
   "cell_type": "code",
   "execution_count": 7,
   "metadata": {},
   "outputs": [
    {
     "data": {
      "image/png": "[encoded data removed]",
      "text/plain": [
       "<matplotlib.figure.Figure at 0x7f5334d731d0>"
      ]
     },
     "metadata": {},
     "output_type": "display_data"
    }
   ],
   "source": [
    "# plot the data\n",
    "fig_name = 'AP_soma_axon'\n",
    "ax = plt.subplot(121)\n",
    "\n",
    "t = np.linspace(0, time[-1]-time[0], len(time))\n",
    "plt.plot(t, np.array(vecs_ais[-1]),color=axon_color,lw=2, label = 'axon')\n",
    "plt.plot(t, np.array(v_soma), color = soma_color, lw=2, label = 'soma')\n",
    "plt.xlim(plot_lim)\n",
    "plt.ylabel(u'voltage (mV)')\n",
    "plt.xlabel('time (ms)')\n",
    "plt.legend(frameon=False)\n",
    "\n",
    "plt.tight_layout()\n",
    "ax.get_xaxis().tick_bottom()\n",
    "ax.get_yaxis().tick_left()\n",
    "ax.spines[\"top\"].set_visible(False)\n",
    "ax.spines[\"right\"].set_visible(False)\n",
    "if run_original:\n",
    "    plt.title('physiological Nav')\n",
    "else:\n",
    "    plt.title('reduced Nav')\n",
    "\n",
    "# phase plots\n",
    "ax = plt.subplot(122)\n",
    "plt.plot(np.array(vecs_ais[-1])[:-1],np.diff(np.array(vecs_ais[-1])/dt), color=axon_color,lw=2, label = 'axon')\n",
    "plt.plot(np.array(v_soma)[:-1], np.diff(np.array(v_soma)/dt), color = soma_color, lw=2, label = 'soma')\n",
    "    \n",
    "plt.xlim(-100, 40)\n",
    "plt.ylim([-220, 1000])\n",
    "plt.tight_layout()\n",
    "plt.xlabel('voltage (mV)')\n",
    "plt.ylabel('dV/dt (mV/ms)')\n",
    "ax.get_xaxis().tick_bottom()\n",
    "ax.get_yaxis().tick_left()\n",
    "ax.spines[\"top\"].set_visible(False)\n",
    "ax.spines[\"right\"].set_visible(False)\n",
    "\n",
    "ext = '.pdf'\n",
    "if run_original:\n",
    "    model = 'physiological'\n",
    "else:\n",
    "    model = 'reduced'\n",
    "plt.savefig('../../fig3_'+model+ext)"
   ]
  },
  {
   "cell_type": "code",
   "execution_count": null,
   "metadata": {
    "collapsed": true
   },
   "outputs": [],
   "source": []
  },
  {
   "cell_type": "code",
   "execution_count": null,
   "metadata": {
    "collapsed": true
   },
   "outputs": [],
   "source": []
  }
 ],
 "metadata": {
  "anaconda-cloud": {},
  "kernelspec": {
   "display_name": "Python 2",
   "language": "python",
   "name": "python2"
  },
  "language_info": {
   "codemirror_mode": {
    "name": "ipython",
    "version": 2
   },
   "file_extension": ".py",
   "mimetype": "text/x-python",
   "name": "python",
   "nbconvert_exporter": "python",
   "pygments_lexer": "ipython2",
   "version": "2.7.13"
  }
 },
 "nbformat": 4,
 "nbformat_minor": 1
}
