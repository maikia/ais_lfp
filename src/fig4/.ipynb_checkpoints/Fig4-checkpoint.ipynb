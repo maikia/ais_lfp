{
 "cells": [
  {
   "cell_type": "markdown",
   "metadata": {
    "collapsed": true
   },
   "source": [
    "# This code generates \n",
    "## Fig4. Extracellular potential measured at different locations"
   ]
  },
  {
   "cell_type": "code",
   "execution_count": 1,
   "metadata": {
    "collapsed": true
   },
   "outputs": [],
   "source": [
    "# import necessary libraries\n",
    "import numpy as np\n",
    "import os.path\n",
    "import sys\n",
    "import matplotlib.pylab as plt\n",
    "\n",
    "ext = '.pdf'\n",
    "%matplotlib inline"
   ]
  },
  {
   "cell_type": "code",
   "execution_count": 2,
   "metadata": {
    "collapsed": true
   },
   "outputs": [],
   "source": [
    "# simulate the cell (or use the data from previous simulation)\n",
    "simulate_new = False # set False if you want to use previously saved simulated previously data\n",
    "#run_original = False # if False, will run reduced_Nav"
   ]
  },
  {
   "cell_type": "code",
   "execution_count": 3,
   "metadata": {},
   "outputs": [
    {
     "name": "stdout",
     "output_type": "stream",
     "text": [
      "/home/maria/maja/articles/lfp_phd/final code/data/HallermannEtAl2012\n"
     ]
    }
   ],
   "source": [
    "%cd ../../data/HallermannEtAl2012"
   ]
  },
  {
   "cell_type": "code",
   "execution_count": 4,
   "metadata": {
    "collapsed": true
   },
   "outputs": [],
   "source": [
    "from calcs import simulate as sim\n",
    "#import simulate as sim"
   ]
  },
  {
   "cell_type": "code",
   "execution_count": 5,
   "metadata": {
    "collapsed": true
   },
   "outputs": [],
   "source": [
    "# get neuron params\n",
    "data_phys = sim.get_data('', simulate_new=simulate_new, run_original=True)\n",
    "# exact parameters of the simulation are set in the simulate.py file"
   ]
  },
  {
   "cell_type": "code",
   "execution_count": 6,
   "metadata": {
    "collapsed": true
   },
   "outputs": [],
   "source": [
    "data_red = sim.get_data('', simulate_new=simulate_new, run_original=False)"
   ]
  },
  {
   "cell_type": "code",
   "execution_count": 7,
   "metadata": {
    "collapsed": true
   },
   "outputs": [],
   "source": [
    "# calculate local field potential\n",
    "calc_lfp_new = False\n",
    "field_size_type = 'zoom' # 'zoom' or 'full'; if 'zoom' the calculated field is [] (zoomed in, fig4B)\n",
    "                    # if 'full' the calculated field is [] (field around the cell fig, 4A)"
   ]
  },
  {
   "cell_type": "code",
   "execution_count": 8,
   "metadata": {
    "collapsed": true
   },
   "outputs": [],
   "source": [
    "from calcs import calc_lfp "
   ]
  },
  {
   "cell_type": "code",
   "execution_count": 9,
   "metadata": {
    "collapsed": true
   },
   "outputs": [],
   "source": [
    "# parameters for the field calculations\n",
    "lfp_data_phys = calc_lfp.get_lfp_data(data_phys, calc_lfp_new=calc_lfp_new, field_size_type=field_size_type, run_original=True)"
   ]
  },
  {
   "cell_type": "code",
   "execution_count": 10,
   "metadata": {
    "collapsed": true
   },
   "outputs": [],
   "source": [
    "# parameters for the field calculations\n",
    "lfp_data_red = calc_lfp.get_lfp_data(data_red, calc_lfp_new=calc_lfp_new, field_size_type=field_size_type, run_original=False)"
   ]
  },
  {
   "cell_type": "code",
   "execution_count": 11,
   "metadata": {
    "collapsed": true
   },
   "outputs": [],
   "source": [
    "def plot_all_v_ext(v_ext, timeline, color = 'blue', scale = 2, clean_plot = False):\n",
    "    idx = 0\n",
    "    xlim = [40,56]\n",
    "\n",
    "    for i in range(1, np.size(v_ext,1)+1)[::-1]:\n",
    "        for j in range(1,np.size(v_ext, 2)+1):\n",
    "            idx+=1\n",
    "            ax = plt.subplot(np.size(v_ext,1), np.size(v_ext, 2), idx)\n",
    "            plt.hlines(0, timeline[0], timeline[-1], linestyles = 'dashed', colors = 'k')\n",
    "\n",
    "            plt.plot(timeline, v_ext[:,i-1,j-1], color = color)\n",
    "            plt.plot([55, 55], [-0.5*scale,0.5*scale], color='m', lw=2)\n",
    "            if i == 1 and j == 5:\n",
    "                plt.text(scale, scale, u'scale='+str(scale)+u'µV')\n",
    "\n",
    "            plt.xlim(xlim)\n",
    "            if clean_plot:\n",
    "                #labels=ax.get_yticks().tolist()\n",
    "                #max_plot = max(np.abs(labels))\n",
    "                #yzoom = [-max_plot, max_plot]\n",
    "                max_v_ext = np.max(np.abs(v_ext[:,i-1,j-1]))\n",
    "                yzoom = [-max_v_ext,max_v_ext]\n",
    "                plt.ylim(yzoom)\n",
    "                if idx %5 == 1 or idx in [21, 22, 23, 24, 25]:\n",
    "                    ax.spines['right'].set_visible(False)\n",
    "                    ax.spines['top'].set_visible(False)\n",
    "                    if idx %5 == 1:\n",
    "                        labels=ax.get_yticks().tolist()\n",
    "                        ax.yaxis.set_ticks_position('left')\n",
    "                        #labels = [item.get_text() for item in ax.get_yticklabels()]\n",
    "                        idx_0 = labels.index(0.0)\n",
    "                        labels[1:-1] = ['']*len(labels[1:-1])\n",
    "                        labels[idx_0] = 0\n",
    "                        ax.set_yticklabels(labels)\n",
    "\n",
    "                        ax.spines['left'].set_visible(False)\n",
    "                        ax.set_yticks([]) \n",
    "                    else:\n",
    "\n",
    "                        ax.spines['left'].set_visible(False)\n",
    "                        ax.set_yticks([]) \n",
    "\n",
    "                    if idx in [21, 22, 23, 24, 25]:\n",
    "                        ax.xaxis.set_ticks_position('bottom')\n",
    "                        locs = np.arange(xlim[0],xlim[-1],step=5) # locations\n",
    "                        ticks = np.arange(0,np.diff(xlim),step=5)\n",
    "                        plt.xticks(locs, ticks)#, rotation=\"vertical\" )\n",
    "                        ax.set_xlabel('time (ms)')\n",
    "                    else:\n",
    "                        ax.spines['bottom'].set_visible(False)\n",
    "                        ax.set_xticks([]) \n",
    "                else:\n",
    "                    plt.axis('off')\n",
    "                plt.tight_layout()\n",
    "    plt.subplots_adjust(hspace=0.1, wspace=0.1)"
   ]
  },
  {
   "cell_type": "code",
   "execution_count": 12,
   "metadata": {},
   "outputs": [],
   "source": [
    "def plot_lfp_inspace(dt, lfp_data, field_size_type, run_original, clean_plot=False):\n",
    "    # plot the results\n",
    "    v_ext = lfp_data['v_ext']\n",
    "    x_range = lfp_data['x_range']\n",
    "    y_range = lfp_data['y_range']\n",
    "    xx = lfp_data['xx']\n",
    "    yy = lfp_data['yy']\n",
    "\n",
    "    if run_original:\n",
    "        color = 'r'\n",
    "        label = 'physiological Nav'\n",
    "    else:\n",
    "        color = 'g'\n",
    "        label = 'reduced Nav'\n",
    "    \n",
    "    if field_size_type == 'zoom':\n",
    "        scale = 30\n",
    "    else:\n",
    "        scale = 2\n",
    "\n",
    "    v_ext_um = v_ext/10e2 # change to microvolts\n",
    "    timeline = np.arange(0, len(v_ext_um)*dt, dt)\n",
    "\n",
    "    plot_all_v_ext(v_ext_um,timeline, color=color, scale=scale, clean_plot=clean_plot)\n",
    "    \n",
    "    plt.legend(frameon = False, loc = \"center left\", bbox_to_anchor = (1, 0.5))\n",
    "\n",
    "    plt.title(label)"
   ]
  },
  {
   "cell_type": "code",
   "execution_count": 13,
   "metadata": {
    "scrolled": true
   },
   "outputs": [
    {
     "name": "stderr",
     "output_type": "stream",
     "text": [
      "/home/maria/anaconda2/envs/hallerman-project/lib/python2.7/site-packages/matplotlib/axes/_axes.py:545: UserWarning: No labelled objects found. Use label='...' kwarg on individual plots.\n",
      "  warnings.warn(\"No labelled objects found. \"\n"
     ]
    },
    {
     "data": {
      "image/png": "[encoded data removed]",
      "text/plain": [
       "<matplotlib.figure.Figure at 0x7f984a067ed0>"
      ]
     },
     "metadata": {},
     "output_type": "display_data"
    }
   ],
   "source": [
    "plot_lfp_inspace(dt=data_phys['dt'], lfp_data=lfp_data_phys, field_size_type=field_size_type, run_original=True)\n",
    "plot_lfp_inspace(dt=data_red['dt'], lfp_data=lfp_data_red, field_size_type=field_size_type, \n",
    "                 run_original=False, clean_plot = True)\n",
    "\n",
    "ext = '.pdf'\n",
    "plt.savefig('../../fig4_'+field_size_type+ext)"
   ]
  },
  {
   "cell_type": "code",
   "execution_count": null,
   "metadata": {
    "collapsed": true
   },
   "outputs": [],
   "source": []
  },
  {
   "cell_type": "code",
   "execution_count": null,
   "metadata": {
    "collapsed": true
   },
   "outputs": [],
   "source": []
  },
  {
   "cell_type": "code",
   "execution_count": null,
   "metadata": {
    "collapsed": true
   },
   "outputs": [],
   "source": []
  }
 ],
 "metadata": {
  "anaconda-cloud": {},
  "kernelspec": {
   "display_name": "Python 2",
   "language": "python",
   "name": "python2"
  },
  "language_info": {
   "codemirror_mode": {
    "name": "ipython",
    "version": 2
   },
   "file_extension": ".py",
   "mimetype": "text/x-python",
   "name": "python",
   "nbconvert_exporter": "python",
   "pygments_lexer": "ipython2",
   "version": "2.7.13"
  }
 },
 "nbformat": 4,
 "nbformat_minor": 1
}
