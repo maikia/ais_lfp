{
 "cells": [
  {
   "cell_type": "markdown",
   "metadata": {},
   "source": [
    "# List of figures\n",
    "click on the Figure name to access the notebook with the code of that figure"
   ]
  },
  {
   "cell_type": "markdown",
   "metadata": {},
   "source": [
    "[Fig3](src/fig3/Fig3.ipynb) Action potentials in two different locations: soma and AIS"
   ]
  },
  {
   "cell_type": "markdown",
   "metadata": {},
   "source": [
    "[Fig4](src/fig4/Fig4.ipynb) Extracellular potential measured at different locations"
   ]
  },
  {
   "cell_type": "markdown",
   "metadata": {},
   "source": [
    "[Fig5](src/fig5/Fig5.ipynb) Maximum peak-to-peak amplitude of the EAP calculated in the different places of the field"
   ]
  },
  {
   "cell_type": "markdown",
   "metadata": {},
   "source": [
    "[Fig6](src/fig6/Fig6.ipynb) Comparison of peak-to-peak amplitude in physiological and reduced Nav models"
   ]
  },
  {
   "cell_type": "markdown",
   "metadata": {},
   "source": [
    "[Fig7](src/fig7/Fig7.ipynb) Extracellular potential calculated from the soma-axon model with the AIS at three different distances"
   ]
  }
 ],
 "metadata": {
  "anaconda-cloud": {},
  "kernelspec": {
   "display_name": "Python [default]",
   "language": "python",
   "name": "python2"
  },
  "language_info": {
   "codemirror_mode": {
    "name": "ipython",
    "version": 2
   },
   "file_extension": ".py",
   "mimetype": "text/x-python",
   "name": "python",
   "nbconvert_exporter": "python",
   "pygments_lexer": "ipython2",
   "version": "2.7.12"
  }
 },
 "nbformat": 4,
 "nbformat_minor": 1
}
