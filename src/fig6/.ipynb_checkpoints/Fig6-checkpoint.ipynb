{
 "cells": [
  {
   "cell_type": "markdown",
   "metadata": {
    "collapsed": true
   },
   "source": [
    "# This code generates \n",
    "## Fig6. Comparison of peak-to-peak amplitude in physiological and reduced Nav models"
   ]
  },
  {
   "cell_type": "code",
   "execution_count": 1,
   "metadata": {
    "collapsed": true
   },
   "outputs": [],
   "source": [
    "# import necessary libraries\n",
    "import numpy as np\n",
    "import os.path\n",
    "import sys\n",
    "import matplotlib.pylab as plt\n",
    "from eap import graph\n",
    "\n",
    "ext = '.pdf'\n",
    "%matplotlib inline"
   ]
  },
  {
   "cell_type": "code",
   "execution_count": 2,
   "metadata": {
    "collapsed": true
   },
   "outputs": [],
   "source": [
    "# simulate the cell (or use the data from previous simulation)\n",
    "simulate_new = False # set False if you want to use previously saved simulated previously data\n",
    "# here we run both physiologyical and reduced Nav model "
   ]
  },
  {
   "cell_type": "code",
   "execution_count": 3,
   "metadata": {},
   "outputs": [
    {
     "name": "stdout",
     "output_type": "stream",
     "text": [
      "/home/maria/maja/articles/lfp_phd/final code/data/HallermannEtAl2012\n"
     ]
    }
   ],
   "source": [
    "%cd ../../data/HallermannEtAl2012"
   ]
  },
  {
   "cell_type": "code",
   "execution_count": 4,
   "metadata": {
    "collapsed": true
   },
   "outputs": [],
   "source": [
    "from calcs import simulate as sim"
   ]
  },
  {
   "cell_type": "code",
   "execution_count": 5,
   "metadata": {
    "collapsed": true
   },
   "outputs": [],
   "source": [
    "# get neuron params\n",
    "data_phys = sim.get_data('', simulate_new=simulate_new, run_original=True)\n",
    "data_red = sim.get_data('', simulate_new=simulate_new, run_original=False)\n",
    "# exact parameters of the simulation are set in the simulate.py file"
   ]
  },
  {
   "cell_type": "code",
   "execution_count": 6,
   "metadata": {},
   "outputs": [],
   "source": [
    "# calculate local field potential\n",
    "calc_lfp_new = True\n",
    "field_size_type = 'ais_det' # 'ais_det', for fig A-C # both of those calculations are slow as they take a lot of data pts\n",
    "                    # 'lfp_zoom_out', for fig 6C "
   ]
  },
  {
   "cell_type": "code",
   "execution_count": null,
   "metadata": {},
   "outputs": [],
   "source": [
    "from calcs import calc_lfp "
   ]
  },
  {
   "cell_type": "code",
   "execution_count": null,
   "metadata": {},
   "outputs": [],
   "source": [
    "# parameters for the field calculations\n",
    "lfp_data_phys = calc_lfp.get_lfp_data(data_phys, calc_lfp_new=calc_lfp_new, \n",
    "                                      field_size_type=field_size_type, run_original=True)"
   ]
  },
  {
   "cell_type": "code",
   "execution_count": null,
   "metadata": {
    "collapsed": true
   },
   "outputs": [],
   "source": [
    "lfp_data_red = calc_lfp.get_lfp_data(data_red, calc_lfp_new=calc_lfp_new, field_size_type=field_size_type, run_original=False)"
   ]
  },
  {
   "cell_type": "code",
   "execution_count": null,
   "metadata": {
    "collapsed": true
   },
   "outputs": [],
   "source": [
    "def plot_fig6a(data, lfp_data, run_original, normalize = False):\n",
    "    if run_original:\n",
    "        color = 'r'\n",
    "        title = 'physiological'\n",
    "    else:\n",
    "        color = 'g'\n",
    "        title = 'reduced'\n",
    "    v_ext = lfp_data['v_ext']\n",
    "    x_range = lfp_data['x_range']\n",
    "    y_range = lfp_data['y_range']\n",
    "    seg_coords = data['seg_coords']\n",
    "    ais_coord = [-8.10, -69.90]\n",
    "    \n",
    "    if normalize:\n",
    "        vmax = 0.3\n",
    "        ticks = [0, 0.1, 0.2, 0.3]\n",
    "        str_ticks = ['0%', '10%', '20%', '>30%']\n",
    "    elif run_original:\n",
    "        vmax = 1000\n",
    "        ticks = [0, 250, 500, 750, 1000]\n",
    "        str_ticks = [str(0), '250', '500', '750', '>1000']\n",
    "    else:\n",
    "        vmax = 500\n",
    "        ticks = [0, 250, 500]\n",
    "        str_ticks = [str(0), '250', '>500']   \n",
    "    # plot the extracellular voltage\n",
    "    from matplotlib import gridspec\n",
    "    gs = gridspec.GridSpec(1, 2, width_ratios=(4, 0.3))#, 4,0.5))\n",
    "    scalebar = 50\n",
    "    v_ext_um = v_ext/10e2 # change to microvolts\n",
    "\n",
    "    amplitude = calc_max_peak2peak(v_ext_um)\n",
    "\n",
    "\n",
    "    if normalize:\n",
    "        # normalize\n",
    "        max_ampl = np.max(np.abs(amplitude))\n",
    "        amplitude = amplitude/max_ampl\n",
    "\n",
    "    ax = plt.subplot(gs[0,0])\n",
    "\n",
    "    im = imshow_data(ax,amplitude,x_range=x_range,y_range=y_range,\n",
    "                vmin=0,vmax=vmax,cmap=cm.YlOrRd,scalebar=scalebar,\n",
    "                         xp_scbar=-100, yp_scbar=-110)\n",
    "    autolim = False\n",
    "    graph.plot_neuron(seg_coords, colors='0.4', autolim = autolim)\n",
    "    ax.axis('off')\n",
    "    ax.set_ylim(y_range)\n",
    "    ax.set_xlim(x_range)\n",
    "    plt.tight_layout()\n",
    "    \n",
    "    scalebar = None\n",
    "    plt.title(title)\n",
    "    plt.tight_layout()\n",
    "\n",
    "    # add colorbar\n",
    "    axes = plt.subplot(gs[0,1])\n",
    "    cbar = plt.colorbar(im, cax=axes, drawedges = False, ticks=ticks)\n",
    "    cbar.ax.set_yticklabels(str_ticks)\n",
    "    cbar.ax.set_ylabel(u'voltage (µV)')\n",
    "    plt.tight_layout()"
   ]
  },
  {
   "cell_type": "code",
   "execution_count": null,
   "metadata": {
    "collapsed": true
   },
   "outputs": [],
   "source": [
    "def calc_max_peak2peak(data):\n",
    "    data_max = np.nanmax(data, axis=0)\n",
    "    data_min = np.nanmin(data, axis=0)\n",
    "    data_ampl = data_max - data_min\n",
    "    return data_ampl"
   ]
  },
  {
   "cell_type": "code",
   "execution_count": null,
   "metadata": {
    "collapsed": true
   },
   "outputs": [],
   "source": [
    "def plot_scalebar(ax, scalebar = 100, xp = 100, yp = -100):\n",
    "# scalebar\n",
    "    w, h = scalebar, scalebar\n",
    "    plt.plot([xp, xp], [yp, yp+h], 'k-')\n",
    "    plt.plot([xp, xp+h], [yp, yp], 'k-')\n",
    "    plt.text(xp, yp+h/2., str(scalebar) +u\" µm\", ha='right', va='center',\n",
    "             transform=ax.transData)\n",
    "    plt.text(xp+h/2., yp, str(scalebar) + u\" µm\", ha='center', va='top',\n",
    "             transform=ax.transData)"
   ]
  },
  {
   "cell_type": "code",
   "execution_count": null,
   "metadata": {
    "collapsed": true
   },
   "outputs": [],
   "source": [
    "import matplotlib.cm as cm\n",
    "# plot the imshow of the given field (2d array)\n",
    "def imshow_data(ax, data, x_range, y_range, vmin=0, vmax=100, cmap=cm.YlOrRd,\n",
    "               scalebar=100, xp_scbar=20, yp_scbar=-50, log=False, \n",
    "                autolim = True):    \n",
    "    \n",
    "    plt.sca(ax)\n",
    "    if log:\n",
    "        pl = plt.imshow(data, interpolation=\"nearest\", \n",
    "           extent=(x_range[0], x_range[1], y_range[0], y_range[1]), \n",
    "           origin='lower', vmin=vmin, vmax=vmax, cmap=cmap,\n",
    "            norm=colors.SymLogNorm(linthresh=0.01 * np.max(data),\n",
    "                                                linscale=1.0,\n",
    "                                                vmin=vmin, vmax=vmax))\n",
    "    else:\n",
    "        pl = plt.imshow(data, interpolation=\"nearest\", \n",
    "           extent=(x_range[0], x_range[1], y_range[0], y_range[1]), \n",
    "           origin='lower', vmin=vmin, vmax=vmax, cmap=cmap)     \n",
    "    \n",
    "    \n",
    "    \n",
    "    if scalebar != None:\n",
    "        plot_scalebar(ax, scalebar=scalebar,xp=xp_scbar,yp=yp_scbar)"
   ]
  },
  {
   "cell_type": "code",
   "execution_count": null,
   "metadata": {},
   "outputs": [],
   "source": [
    "plt.figure()\n",
    "plot_fig6a(data_phys, lfp_data_phys, run_original=True)\n",
    "ext = '.pdf'\n",
    "plt.savefig('../../fig6Aphys_'+field_size_type+ext)\n",
    "\n",
    "plt.figure()\n",
    "plot_fig6a(data_red, lfp_data_red, run_original=False)\n",
    "ext = '.pdf'\n",
    "plt.savefig('../../fig6Ared_'+field_size_type+ext)"
   ]
  },
  {
   "cell_type": "code",
   "execution_count": null,
   "metadata": {},
   "outputs": [],
   "source": [
    "def plot_fig_6b(data,lfp_data_phys, lfp_data_red):\n",
    "    # plot the difference between two normalized extracellular voltages\n",
    "    # plot the difference between the two\n",
    "    v_ext_phys = lfp_data_phys['v_ext']\n",
    "    x_range = lfp_data_phys['x_range']\n",
    "    y_range = lfp_data_phys['y_range']\n",
    "    seg_coords = data['seg_coords']\n",
    "    #v_ext_um_phys = v_ext_phys/10e2 # change to microvolts\n",
    "    amplitude_phys = calc_max_peak2peak(v_ext_phys)\n",
    "    max_ampl_phys = np.max(np.abs(amplitude_phys))\n",
    "    amplitude_phys = amplitude_phys/max_ampl_phys\n",
    "    \n",
    "    v_ext_red = lfp_data_red['v_ext']\n",
    "    #v_ext_um_red = v_ext_red/10e2 # change to microvolts\n",
    "    amplitude_red = calc_max_peak2peak(v_ext_red)\n",
    "    max_ampl_red = np.max(np.abs(amplitude_red))\n",
    "    amplitude_red = amplitude_red/max_ampl_red\n",
    "    \n",
    "    vmin, vmax = -0.1, 0.1\n",
    "    ticks = [-0.1, 0, 0.1]\n",
    "    str_ticks = ['> in original ', '0', '> in no AIS']\n",
    "\n",
    "    from matplotlib import gridspec\n",
    "    gs = gridspec.GridSpec(1, 2, width_ratios=(3 ,0.3))\n",
    "    scalebar = 50\n",
    "\n",
    "    # subtract one from the other\n",
    "    ampl_diffs = amplitude_red-amplitude_phys\n",
    "\n",
    "    ax = plt.subplot(gs[0,0])\n",
    "\n",
    "    im = imshow_data(ax,ampl_diffs,x_range=x_range,y_range=y_range,\n",
    "                vmin=vmin,vmax=vmax,cmap=cm.PiYG,scalebar=scalebar,\n",
    "                         xp_scbar=-100, yp_scbar=-110)\n",
    "    autolim = False\n",
    "    graph.plot_neuron(seg_coords, colors='0.4', autolim = autolim)\n",
    "    ax.axis('off')\n",
    "    ax.set_ylim(y_range)\n",
    "    ax.set_xlim(x_range)\n",
    "    plt.tight_layout()\n",
    "    \n",
    "    scalebar = None\n",
    "\n",
    "    plt.title('difference between normalized amplitudes')\n",
    "\n",
    "    # add colorbar\n",
    "    axes = plt.subplot(gs[0,1])\n",
    "    cbar = plt.colorbar(im, cax=axes, drawedges = False, ticks=ticks)\n",
    "    cbar.ax.set_yticklabels(str_ticks)\n",
    "    cbar.ax.set_ylabel(u'voltage normalized')\n",
    "\n",
    "    plt.tight_layout()\n",
    "    "
   ]
  },
  {
   "cell_type": "code",
   "execution_count": null,
   "metadata": {},
   "outputs": [],
   "source": [
    "plot_fig_6b(data_phys,lfp_data_phys, lfp_data_red)\n",
    "ext = '.pdf'\n",
    "plt.savefig('../../fig6b_'+field_size_type+ext)"
   ]
  },
  {
   "cell_type": "code",
   "execution_count": null,
   "metadata": {
    "collapsed": true
   },
   "outputs": [],
   "source": []
  },
  {
   "cell_type": "code",
   "execution_count": null,
   "metadata": {
    "collapsed": true
   },
   "outputs": [],
   "source": []
  }
 ],
 "metadata": {
  "anaconda-cloud": {},
  "kernelspec": {
   "display_name": "Python 2",
   "language": "python",
   "name": "python2"
  },
  "language_info": {
   "codemirror_mode": {
    "name": "ipython",
    "version": 2
   },
   "file_extension": ".py",
   "mimetype": "text/x-python",
   "name": "python",
   "nbconvert_exporter": "python",
   "pygments_lexer": "ipython2",
   "version": "2.7.13"
  }
 },
 "nbformat": 4,
 "nbformat_minor": 1
}
